{
 "cells": [
  {
   "cell_type": "markdown",
   "id": "a4d771af-d4f9-4b9f-aeae-45bd19c8c0ae",
   "metadata": {},
   "source": [
    "### B. Titanic-https://www.kaggle.com/c/titanic/data\n",
    "Database of whether somebody survived or not\n",
    "Can you infer who has survived ?\n",
    "\n",
    "1. Load the data\n",
    "2. Which gender survived more \n",
    "3. Does it depend on pclass?\n",
    "4. can we see % of survival of each gender and pclass \n",
    "What is your inference? "
   ]
  },
  {
   "cell_type": "markdown",
   "id": "a531f39f-a8b1-4df3-a98d-b35d63e5ef69",
   "metadata": {},
   "source": [
    "### Data\n",
    "col name    defination      key\n",
    "survived  - survival        - 0-No,1-Yes\n",
    "pclass    - Ticketclass     - 1 = 1st, 2 = 2nd, 3 = 3rd\n",
    "name      - Passengername   - (lastname,title first name)/ (lastname,title husbands name (first name))\n",
    "sex       - Sex             - male,female  \n",
    "age       - Age                \n",
    "sibsp     - of siblings / spouses aboard the Titanic\n",
    "parch     - of parents / children aboard the Titanic\n",
    "ticket    - Ticket number\n",
    "fare      - Passenger fare\n",
    "cabin     - Cabin number\n",
    "embarked  - Port of Embarkation  - C = Cherbourg, Q = Queenstown, S = Southampton"
   ]
  },
  {
   "cell_type": "code",
   "execution_count": 1,
   "id": "88521b36-9408-488f-aed4-12f3d65d98a4",
   "metadata": {},
   "outputs": [],
   "source": [
    "import pandas as pd\n",
    "import matplotlib.pyplot as plt\n",
    "import numpy as np\n",
    "from datetime import datetime as dt"
   ]
  },
  {
   "cell_type": "code",
   "execution_count": 2,
   "id": "21b50709-1a2e-4ace-8d1c-783f56c9f438",
   "metadata": {},
   "outputs": [],
   "source": [
    "path = r'code\\data\\titanic_train.csv'"
   ]
  },
  {
   "cell_type": "code",
   "execution_count": 3,
   "id": "9f13f950-c56d-4279-8474-fa8523728cb5",
   "metadata": {},
   "outputs": [],
   "source": [
    "titanic = pd.read_csv(path)"
   ]
  },
  {
   "cell_type": "code",
   "execution_count": 4,
   "id": "73d9f746-a86b-4c1c-96f0-25e4a25d650c",
   "metadata": {},
   "outputs": [
    {
     "data": {
      "text/html": [
       "<div>\n",
       "<style scoped>\n",
       "    .dataframe tbody tr th:only-of-type {\n",
       "        vertical-align: middle;\n",
       "    }\n",
       "\n",
       "    .dataframe tbody tr th {\n",
       "        vertical-align: top;\n",
       "    }\n",
       "\n",
       "    .dataframe thead th {\n",
       "        text-align: right;\n",
       "    }\n",
       "</style>\n",
       "<table border=\"1\" class=\"dataframe\">\n",
       "  <thead>\n",
       "    <tr style=\"text-align: right;\">\n",
       "      <th></th>\n",
       "      <th>survived</th>\n",
       "      <th>pclass</th>\n",
       "      <th>name</th>\n",
       "      <th>sex</th>\n",
       "      <th>age</th>\n",
       "      <th>sibsp</th>\n",
       "      <th>parch</th>\n",
       "      <th>ticket</th>\n",
       "      <th>fare</th>\n",
       "      <th>cabin</th>\n",
       "      <th>embarked</th>\n",
       "    </tr>\n",
       "  </thead>\n",
       "  <tbody>\n",
       "    <tr>\n",
       "      <th>0</th>\n",
       "      <td>0</td>\n",
       "      <td>3</td>\n",
       "      <td>Braund, Mr. Owen Harris</td>\n",
       "      <td>male</td>\n",
       "      <td>22.0</td>\n",
       "      <td>1</td>\n",
       "      <td>0</td>\n",
       "      <td>A/5 21171</td>\n",
       "      <td>7.2500</td>\n",
       "      <td>NaN</td>\n",
       "      <td>S</td>\n",
       "    </tr>\n",
       "    <tr>\n",
       "      <th>1</th>\n",
       "      <td>1</td>\n",
       "      <td>1</td>\n",
       "      <td>Cumings, Mrs. John Bradley (Florence Briggs Th...</td>\n",
       "      <td>female</td>\n",
       "      <td>38.0</td>\n",
       "      <td>1</td>\n",
       "      <td>0</td>\n",
       "      <td>PC 17599</td>\n",
       "      <td>71.2833</td>\n",
       "      <td>C85</td>\n",
       "      <td>C</td>\n",
       "    </tr>\n",
       "    <tr>\n",
       "      <th>2</th>\n",
       "      <td>1</td>\n",
       "      <td>3</td>\n",
       "      <td>Heikkinen, Miss. Laina</td>\n",
       "      <td>female</td>\n",
       "      <td>26.0</td>\n",
       "      <td>0</td>\n",
       "      <td>0</td>\n",
       "      <td>STON/O2. 3101282</td>\n",
       "      <td>7.9250</td>\n",
       "      <td>NaN</td>\n",
       "      <td>S</td>\n",
       "    </tr>\n",
       "    <tr>\n",
       "      <th>3</th>\n",
       "      <td>1</td>\n",
       "      <td>1</td>\n",
       "      <td>Futrelle, Mrs. Jacques Heath (Lily May Peel)</td>\n",
       "      <td>female</td>\n",
       "      <td>35.0</td>\n",
       "      <td>1</td>\n",
       "      <td>0</td>\n",
       "      <td>113803</td>\n",
       "      <td>53.1000</td>\n",
       "      <td>C123</td>\n",
       "      <td>S</td>\n",
       "    </tr>\n",
       "    <tr>\n",
       "      <th>4</th>\n",
       "      <td>0</td>\n",
       "      <td>3</td>\n",
       "      <td>Allen, Mr. William Henry</td>\n",
       "      <td>male</td>\n",
       "      <td>35.0</td>\n",
       "      <td>0</td>\n",
       "      <td>0</td>\n",
       "      <td>373450</td>\n",
       "      <td>8.0500</td>\n",
       "      <td>NaN</td>\n",
       "      <td>S</td>\n",
       "    </tr>\n",
       "  </tbody>\n",
       "</table>\n",
       "</div>"
      ],
      "text/plain": [
       "   survived  pclass                                               name  \\\n",
       "0         0       3                            Braund, Mr. Owen Harris   \n",
       "1         1       1  Cumings, Mrs. John Bradley (Florence Briggs Th...   \n",
       "2         1       3                             Heikkinen, Miss. Laina   \n",
       "3         1       1       Futrelle, Mrs. Jacques Heath (Lily May Peel)   \n",
       "4         0       3                           Allen, Mr. William Henry   \n",
       "\n",
       "      sex   age  sibsp  parch            ticket     fare cabin embarked  \n",
       "0    male  22.0      1      0         A/5 21171   7.2500   NaN        S  \n",
       "1  female  38.0      1      0          PC 17599  71.2833   C85        C  \n",
       "2  female  26.0      0      0  STON/O2. 3101282   7.9250   NaN        S  \n",
       "3  female  35.0      1      0            113803  53.1000  C123        S  \n",
       "4    male  35.0      0      0            373450   8.0500   NaN        S  "
      ]
     },
     "execution_count": 4,
     "metadata": {},
     "output_type": "execute_result"
    }
   ],
   "source": [
    "titanic.head()"
   ]
  },
  {
   "cell_type": "code",
   "execution_count": 5,
   "id": "3a1293f3-8e9f-470b-a22e-9b1a53bbd819",
   "metadata": {},
   "outputs": [
    {
     "data": {
      "text/plain": [
       "((891, 11), 9801)"
      ]
     },
     "execution_count": 5,
     "metadata": {},
     "output_type": "execute_result"
    }
   ],
   "source": [
    "titanic.shape,titanic.size"
   ]
  },
  {
   "cell_type": "code",
   "execution_count": 6,
   "id": "7f6d608f-3a62-4ba9-b3c1-333b03d55890",
   "metadata": {},
   "outputs": [
    {
     "data": {
      "text/plain": [
       "Index(['survived', 'pclass', 'name', 'sex', 'age', 'sibsp', 'parch', 'ticket',\n",
       "       'fare', 'cabin', 'embarked'],\n",
       "      dtype='object')"
      ]
     },
     "execution_count": 6,
     "metadata": {},
     "output_type": "execute_result"
    }
   ],
   "source": [
    "titanic.columns"
   ]
  },
  {
   "cell_type": "code",
   "execution_count": 7,
   "id": "f92da483-9a4e-4cb8-9e35-30eab7a8a380",
   "metadata": {},
   "outputs": [
    {
     "data": {
      "text/plain": [
       "survived      2\n",
       "pclass        3\n",
       "name        891\n",
       "sex           2\n",
       "age          88\n",
       "sibsp         7\n",
       "parch         7\n",
       "ticket      681\n",
       "fare        248\n",
       "cabin       147\n",
       "embarked      3\n",
       "dtype: int64"
      ]
     },
     "execution_count": 7,
     "metadata": {},
     "output_type": "execute_result"
    }
   ],
   "source": [
    "titanic.nunique()"
   ]
  },
  {
   "cell_type": "code",
   "execution_count": 8,
   "id": "8a685eee-3600-4fd6-854e-fddc0035ee42",
   "metadata": {},
   "outputs": [
    {
     "data": {
      "text/plain": [
       "(sex\n",
       " male      577\n",
       " female    314\n",
       " Name: count, dtype: int64,\n",
       " pclass\n",
       " 3    491\n",
       " 1    216\n",
       " 2    184\n",
       " Name: count, dtype: int64)"
      ]
     },
     "execution_count": 8,
     "metadata": {},
     "output_type": "execute_result"
    }
   ],
   "source": [
    " titanic['sex'].value_counts(),titanic['pclass'].value_counts()"
   ]
  },
  {
   "cell_type": "markdown",
   "id": "131894af-e161-46ed-97b4-8303c6e8db5a",
   "metadata": {},
   "source": [
    "## Which gender survived more"
   ]
  },
  {
   "cell_type": "code",
   "execution_count": 9,
   "id": "d320392a-3dfb-4f97-9434-fb7cd2d8f3c8",
   "metadata": {},
   "outputs": [
    {
     "data": {
      "text/html": [
       "<div>\n",
       "<style scoped>\n",
       "    .dataframe tbody tr th:only-of-type {\n",
       "        vertical-align: middle;\n",
       "    }\n",
       "\n",
       "    .dataframe tbody tr th {\n",
       "        vertical-align: top;\n",
       "    }\n",
       "\n",
       "    .dataframe thead th {\n",
       "        text-align: right;\n",
       "    }\n",
       "</style>\n",
       "<table border=\"1\" class=\"dataframe\">\n",
       "  <thead>\n",
       "    <tr style=\"text-align: right;\">\n",
       "      <th></th>\n",
       "      <th>sex</th>\n",
       "      <th>survived</th>\n",
       "    </tr>\n",
       "    <tr>\n",
       "      <th>sex</th>\n",
       "      <th></th>\n",
       "      <th></th>\n",
       "    </tr>\n",
       "  </thead>\n",
       "  <tbody>\n",
       "    <tr>\n",
       "      <th>female</th>\n",
       "      <td>314</td>\n",
       "      <td>233</td>\n",
       "    </tr>\n",
       "    <tr>\n",
       "      <th>male</th>\n",
       "      <td>577</td>\n",
       "      <td>109</td>\n",
       "    </tr>\n",
       "  </tbody>\n",
       "</table>\n",
       "</div>"
      ],
      "text/plain": [
       "        sex  survived\n",
       "sex                  \n",
       "female  314       233\n",
       "male    577       109"
      ]
     },
     "execution_count": 9,
     "metadata": {},
     "output_type": "execute_result"
    }
   ],
   "source": [
    "gender_vs_survived = titanic.groupby('sex').agg({'sex': 'count', 'survived': 'sum'})\n",
    "gender_vs_survived"
   ]
  },
  {
   "cell_type": "code",
   "execution_count": 10,
   "id": "2b13d54f-c560-4aad-aba4-f1f25423ae3e",
   "metadata": {},
   "outputs": [
    {
     "data": {
      "image/png": "[encoded data removed]",
      "text/plain": [
       "<Figure size 400x400 with 1 Axes>"
      ]
     },
     "metadata": {},
     "output_type": "display_data"
    }
   ],
   "source": [
    "plt.figure(figsize=(4,4))\n",
    "plt.bar(gender_vs_survived.index,gender_vs_survived.survived,color=\"red\")\n",
    "plt.xlabel('Gender')\n",
    "plt.ylabel('Survival count')\n",
    "plt.grid(axis='y')\n",
    "plt.tight_layout()\n",
    "plt.show()"
   ]
  },
  {
   "cell_type": "markdown",
   "id": "b28359cf-1c5f-4006-ab80-005befc601de",
   "metadata": {},
   "source": [
    "#### gender_vs_survival"
   ]
  },
  {
   "cell_type": "code",
   "execution_count": 18,
   "id": "0ea62f4c-9c49-490b-b310-74e122289fb9",
   "metadata": {},
   "outputs": [
    {
     "data": {
      "text/html": [
       "<div>\n",
       "<style scoped>\n",
       "    .dataframe tbody tr th:only-of-type {\n",
       "        vertical-align: middle;\n",
       "    }\n",
       "\n",
       "    .dataframe tbody tr th {\n",
       "        vertical-align: top;\n",
       "    }\n",
       "\n",
       "    .dataframe thead th {\n",
       "        text-align: right;\n",
       "    }\n",
       "</style>\n",
       "<table border=\"1\" class=\"dataframe\">\n",
       "  <thead>\n",
       "    <tr style=\"text-align: right;\">\n",
       "      <th></th>\n",
       "      <th>total</th>\n",
       "      <th>survived</th>\n",
       "    </tr>\n",
       "    <tr>\n",
       "      <th>sex</th>\n",
       "      <th></th>\n",
       "      <th></th>\n",
       "    </tr>\n",
       "  </thead>\n",
       "  <tbody>\n",
       "    <tr>\n",
       "      <th>female</th>\n",
       "      <td>314</td>\n",
       "      <td>233</td>\n",
       "    </tr>\n",
       "    <tr>\n",
       "      <th>male</th>\n",
       "      <td>577</td>\n",
       "      <td>109</td>\n",
       "    </tr>\n",
       "  </tbody>\n",
       "</table>\n",
       "</div>"
      ],
      "text/plain": [
       "        total  survived\n",
       "sex                    \n",
       "female    314       233\n",
       "male      577       109"
      ]
     },
     "execution_count": 18,
     "metadata": {},
     "output_type": "execute_result"
    }
   ],
   "source": [
    "gender_vs_survival = titanic.groupby('sex').agg({'sex': 'count', 'survived': 'sum'})\n",
    "gender_vs_survival.columns = ['total','survived']\n",
    "gender_vs_survival"
   ]
  },
  {
   "cell_type": "code",
   "execution_count": 19,
   "id": "0e8c6761-420f-4384-82ec-6ff8e57ae3f3",
   "metadata": {},
   "outputs": [
    {
     "data": {
      "image/png": "[encoded data removed]",
      "text/plain": [
       "<Figure size 640x480 with 1 Axes>"
      ]
     },
     "metadata": {},
     "output_type": "display_data"
    }
   ],
   "source": [
    "# gender_vs_survived - plot\n",
    "labels = gender_vs_survival.index\n",
    "total = gender_vs_survival['total']\n",
    "survived = gender_vs_survival['survived']\n",
    "\n",
    "x = np.arange(len(labels))  \n",
    "width = 0.35  \n",
    "\n",
    "fig, ax = plt.subplots()\n",
    "bars1 = ax.bar(x - width/2, total, width, label='Total', color='red')\n",
    "bars2 = ax.bar(x + width/2, survived, width, label='Survived', color='black')\n",
    "\n",
    "ax.set_xlabel('Gender')\n",
    "ax.set_ylabel('Count')\n",
    "ax.set_title('Total and Survived Passengers by Gender')\n",
    "ax.set_xticks(x)\n",
    "ax.set_xticklabels(labels)\n",
    "ax.legend()\n",
    "\n",
    "plt.tight_layout()\n",
    "plt.show()"
   ]
  },
  {
   "cell_type": "markdown",
   "id": "67e81a9c-896a-429b-b7c8-d07954297367",
   "metadata": {},
   "source": [
    "## Does it depend on pclass?"
   ]
  },
  {
   "cell_type": "code",
   "execution_count": 12,
   "id": "018d4bcb-a264-425f-bc97-1bf369837521",
   "metadata": {},
   "outputs": [
    {
     "data": {
      "text/html": [
       "<div>\n",
       "<style scoped>\n",
       "    .dataframe tbody tr th:only-of-type {\n",
       "        vertical-align: middle;\n",
       "    }\n",
       "\n",
       "    .dataframe tbody tr th {\n",
       "        vertical-align: top;\n",
       "    }\n",
       "\n",
       "    .dataframe thead th {\n",
       "        text-align: right;\n",
       "    }\n",
       "</style>\n",
       "<table border=\"1\" class=\"dataframe\">\n",
       "  <thead>\n",
       "    <tr style=\"text-align: right;\">\n",
       "      <th></th>\n",
       "      <th>survived</th>\n",
       "    </tr>\n",
       "    <tr>\n",
       "      <th>pclass</th>\n",
       "      <th></th>\n",
       "    </tr>\n",
       "  </thead>\n",
       "  <tbody>\n",
       "    <tr>\n",
       "      <th>1</th>\n",
       "      <td>136</td>\n",
       "    </tr>\n",
       "    <tr>\n",
       "      <th>2</th>\n",
       "      <td>87</td>\n",
       "    </tr>\n",
       "    <tr>\n",
       "      <th>3</th>\n",
       "      <td>119</td>\n",
       "    </tr>\n",
       "  </tbody>\n",
       "</table>\n",
       "</div>"
      ],
      "text/plain": [
       "        survived\n",
       "pclass          \n",
       "1            136\n",
       "2             87\n",
       "3            119"
      ]
     },
     "execution_count": 12,
     "metadata": {},
     "output_type": "execute_result"
    }
   ],
   "source": [
    "pclass_vs_survial = titanic.groupby('pclass').agg({'survived':'sum'})\n",
    "pclass_vs_survial"
   ]
  },
  {
   "cell_type": "code",
   "execution_count": 13,
   "id": "ca8c8df9-7549-4e88-8bea-ac8cfbda5d7d",
   "metadata": {},
   "outputs": [
    {
     "data": {
      "image/png": "[encoded data removed]",
      "text/plain": [
       "<Figure size 600x600 with 1 Axes>"
      ]
     },
     "metadata": {},
     "output_type": "display_data"
    }
   ],
   "source": [
    "plt.figure(figsize=(6,6))\n",
    "plt.bar(pclass_vs_survial.index,pclass_vs_survial.survived,color=\"orange\")\n",
    "plt.xticks([1, 2, 3])\n",
    "plt.xlabel('Passenger Class')\n",
    "plt.ylabel('Survived Count')\n",
    "plt.title('Survival Count by Passenger Class')\n",
    "plt.show()"
   ]
  },
  {
   "cell_type": "markdown",
   "id": "4fa57551-9dc8-484d-817b-da2dcb5bbf43",
   "metadata": {},
   "source": [
    "#### pclass_vs_survival"
   ]
  },
  {
   "cell_type": "code",
   "execution_count": 20,
   "id": "064b79be-3294-4baf-993c-74cdb5165807",
   "metadata": {},
   "outputs": [],
   "source": [
    "pclass_vs_survival = titanic.groupby(['pclass']).agg({'pclass':'sum','survived':'sum'})\n",
    "pclass_vs_survival.columns = ['total','survived']"
   ]
  },
  {
   "cell_type": "code",
   "execution_count": 21,
   "id": "7bcf41c2-3b96-4a81-9055-ac411ff073ef",
   "metadata": {},
   "outputs": [
    {
     "data": {
      "image/png": "[encoded data removed]",
      "text/plain": [
       "<Figure size 640x480 with 1 Axes>"
      ]
     },
     "metadata": {},
     "output_type": "display_data"
    }
   ],
   "source": [
    "# pclass_vs_survived - plot\n",
    "labels = pclass_vs_survival.index\n",
    "total = pclass_vs_survival.total\n",
    "survived = pclass_vs_survival.survived\n",
    "\n",
    "fig,ax = plt.subplots()\n",
    "width = 0.35\n",
    "\n",
    "x = np.arange(1,4) #[1,2,3]\n",
    "bar1 = ax.bar(x-width/2,total,width,label = 'total',color='black')\n",
    "bar2 = ax.bar(x+width/2,survived,width,label='survived',color='red')\n",
    "ax.set_xlabel('Pclass')\n",
    "ax.set_ylabel('Count')\n",
    "ax.set_title('Total and Survived Passengers by Pclass')\n",
    "ax.set_xticks(x)\n",
    "ax.legend()\n",
    "\n",
    "plt.tight_layout()\n",
    "plt.show()"
   ]
  },
  {
   "cell_type": "markdown",
   "id": "dc5348e0-190b-4ec7-bf39-c65d72ded21a",
   "metadata": {},
   "source": [
    "### % of survival of each gender"
   ]
  },
  {
   "cell_type": "code",
   "execution_count": 12,
   "id": "3c8ef0fc-3fce-4504-837f-12adb1ff2e54",
   "metadata": {},
   "outputs": [
    {
     "data": {
      "text/html": [
       "<div>\n",
       "<style scoped>\n",
       "    .dataframe tbody tr th:only-of-type {\n",
       "        vertical-align: middle;\n",
       "    }\n",
       "\n",
       "    .dataframe tbody tr th {\n",
       "        vertical-align: top;\n",
       "    }\n",
       "\n",
       "    .dataframe thead th {\n",
       "        text-align: right;\n",
       "    }\n",
       "</style>\n",
       "<table border=\"1\" class=\"dataframe\">\n",
       "  <thead>\n",
       "    <tr style=\"text-align: right;\">\n",
       "      <th></th>\n",
       "      <th>total</th>\n",
       "      <th>survived</th>\n",
       "      <th>%survival</th>\n",
       "    </tr>\n",
       "    <tr>\n",
       "      <th>sex</th>\n",
       "      <th></th>\n",
       "      <th></th>\n",
       "      <th></th>\n",
       "    </tr>\n",
       "  </thead>\n",
       "  <tbody>\n",
       "    <tr>\n",
       "      <th>female</th>\n",
       "      <td>314</td>\n",
       "      <td>233</td>\n",
       "      <td>74.20</td>\n",
       "    </tr>\n",
       "    <tr>\n",
       "      <th>male</th>\n",
       "      <td>577</td>\n",
       "      <td>109</td>\n",
       "      <td>18.89</td>\n",
       "    </tr>\n",
       "  </tbody>\n",
       "</table>\n",
       "</div>"
      ],
      "text/plain": [
       "        total  survived  %survival\n",
       "sex                               \n",
       "female    314       233      74.20\n",
       "male      577       109      18.89"
      ]
     },
     "execution_count": 12,
     "metadata": {},
     "output_type": "execute_result"
    }
   ],
   "source": [
    "gender_vs_survived = titanic.groupby('sex').agg({'sex': 'count', 'survived': 'sum'})\n",
    "gender_vs_survived.rename(columns={'sex': 'total', 'survived': 'survived'}, inplace=True)\n",
    "gender_vs_survived['%survival'] = round(gender_vs_survived['survived']/gender_vs_survived['total']*100,2)\n",
    "gender_vs_survived"
   ]
  },
  {
   "cell_type": "markdown",
   "id": "1621996a-3159-468f-b07b-f5f4a087240e",
   "metadata": {},
   "source": [
    "### % of survival of each pclass "
   ]
  },
  {
   "cell_type": "code",
   "execution_count": 15,
   "id": "2dc11151-9633-43f3-8f85-58b8b49460cf",
   "metadata": {},
   "outputs": [
    {
     "data": {
      "text/html": [
       "<div>\n",
       "<style scoped>\n",
       "    .dataframe tbody tr th:only-of-type {\n",
       "        vertical-align: middle;\n",
       "    }\n",
       "\n",
       "    .dataframe tbody tr th {\n",
       "        vertical-align: top;\n",
       "    }\n",
       "\n",
       "    .dataframe thead th {\n",
       "        text-align: right;\n",
       "    }\n",
       "</style>\n",
       "<table border=\"1\" class=\"dataframe\">\n",
       "  <thead>\n",
       "    <tr style=\"text-align: right;\">\n",
       "      <th></th>\n",
       "      <th>total</th>\n",
       "      <th>survived</th>\n",
       "      <th>%surival</th>\n",
       "    </tr>\n",
       "    <tr>\n",
       "      <th>pclass</th>\n",
       "      <th></th>\n",
       "      <th></th>\n",
       "      <th></th>\n",
       "    </tr>\n",
       "  </thead>\n",
       "  <tbody>\n",
       "    <tr>\n",
       "      <th>1</th>\n",
       "      <td>216</td>\n",
       "      <td>136</td>\n",
       "      <td>62.96</td>\n",
       "    </tr>\n",
       "    <tr>\n",
       "      <th>2</th>\n",
       "      <td>368</td>\n",
       "      <td>87</td>\n",
       "      <td>23.64</td>\n",
       "    </tr>\n",
       "    <tr>\n",
       "      <th>3</th>\n",
       "      <td>1473</td>\n",
       "      <td>119</td>\n",
       "      <td>8.08</td>\n",
       "    </tr>\n",
       "  </tbody>\n",
       "</table>\n",
       "</div>"
      ],
      "text/plain": [
       "        total  survived  %surival\n",
       "pclass                           \n",
       "1         216       136     62.96\n",
       "2         368        87     23.64\n",
       "3        1473       119      8.08"
      ]
     },
     "execution_count": 15,
     "metadata": {},
     "output_type": "execute_result"
    }
   ],
   "source": [
    "pclass_vs_survived = titanic.groupby(['pclass']).agg({'pclass':'sum','survived':'sum'})\n",
    "pclass_vs_survived.columns = ['total','survived']\n",
    "pclass_vs_survived['%surival'] = round(pclass_vs_survived['survived']/pclass_vs_survived['total']*100,2)\n",
    "pclass_vs_survived"
   ]
  },
  {
   "cell_type": "markdown",
   "id": "22b5dfa9-ab28-4f91-bed7-16f902139e8a",
   "metadata": {},
   "source": [
    "### pclass vs gender vs survival"
   ]
  },
  {
   "cell_type": "code",
   "execution_count": 22,
   "id": "b612a0e3-b659-4f25-b228-2dd43b467638",
   "metadata": {},
   "outputs": [
    {
     "data": {
      "text/html": [
       "<div>\n",
       "<style scoped>\n",
       "    .dataframe tbody tr th:only-of-type {\n",
       "        vertical-align: middle;\n",
       "    }\n",
       "\n",
       "    .dataframe tbody tr th {\n",
       "        vertical-align: top;\n",
       "    }\n",
       "\n",
       "    .dataframe thead th {\n",
       "        text-align: right;\n",
       "    }\n",
       "</style>\n",
       "<table border=\"1\" class=\"dataframe\">\n",
       "  <thead>\n",
       "    <tr style=\"text-align: right;\">\n",
       "      <th></th>\n",
       "      <th>pclass</th>\n",
       "      <th>sex</th>\n",
       "      <th>survived</th>\n",
       "      <th>total</th>\n",
       "    </tr>\n",
       "  </thead>\n",
       "  <tbody>\n",
       "    <tr>\n",
       "      <th>0</th>\n",
       "      <td>1</td>\n",
       "      <td>female</td>\n",
       "      <td>0</td>\n",
       "      <td>3</td>\n",
       "    </tr>\n",
       "    <tr>\n",
       "      <th>1</th>\n",
       "      <td>1</td>\n",
       "      <td>female</td>\n",
       "      <td>1</td>\n",
       "      <td>91</td>\n",
       "    </tr>\n",
       "    <tr>\n",
       "      <th>2</th>\n",
       "      <td>1</td>\n",
       "      <td>male</td>\n",
       "      <td>0</td>\n",
       "      <td>77</td>\n",
       "    </tr>\n",
       "    <tr>\n",
       "      <th>3</th>\n",
       "      <td>1</td>\n",
       "      <td>male</td>\n",
       "      <td>1</td>\n",
       "      <td>45</td>\n",
       "    </tr>\n",
       "    <tr>\n",
       "      <th>4</th>\n",
       "      <td>2</td>\n",
       "      <td>female</td>\n",
       "      <td>0</td>\n",
       "      <td>6</td>\n",
       "    </tr>\n",
       "    <tr>\n",
       "      <th>5</th>\n",
       "      <td>2</td>\n",
       "      <td>female</td>\n",
       "      <td>1</td>\n",
       "      <td>70</td>\n",
       "    </tr>\n",
       "    <tr>\n",
       "      <th>6</th>\n",
       "      <td>2</td>\n",
       "      <td>male</td>\n",
       "      <td>0</td>\n",
       "      <td>91</td>\n",
       "    </tr>\n",
       "    <tr>\n",
       "      <th>7</th>\n",
       "      <td>2</td>\n",
       "      <td>male</td>\n",
       "      <td>1</td>\n",
       "      <td>17</td>\n",
       "    </tr>\n",
       "    <tr>\n",
       "      <th>8</th>\n",
       "      <td>3</td>\n",
       "      <td>female</td>\n",
       "      <td>0</td>\n",
       "      <td>72</td>\n",
       "    </tr>\n",
       "    <tr>\n",
       "      <th>9</th>\n",
       "      <td>3</td>\n",
       "      <td>female</td>\n",
       "      <td>1</td>\n",
       "      <td>72</td>\n",
       "    </tr>\n",
       "    <tr>\n",
       "      <th>10</th>\n",
       "      <td>3</td>\n",
       "      <td>male</td>\n",
       "      <td>0</td>\n",
       "      <td>300</td>\n",
       "    </tr>\n",
       "    <tr>\n",
       "      <th>11</th>\n",
       "      <td>3</td>\n",
       "      <td>male</td>\n",
       "      <td>1</td>\n",
       "      <td>47</td>\n",
       "    </tr>\n",
       "  </tbody>\n",
       "</table>\n",
       "</div>"
      ],
      "text/plain": [
       "    pclass     sex  survived  total\n",
       "0        1  female         0      3\n",
       "1        1  female         1     91\n",
       "2        1    male         0     77\n",
       "3        1    male         1     45\n",
       "4        2  female         0      6\n",
       "5        2  female         1     70\n",
       "6        2    male         0     91\n",
       "7        2    male         1     17\n",
       "8        3  female         0     72\n",
       "9        3  female         1     72\n",
       "10       3    male         0    300\n",
       "11       3    male         1     47"
      ]
     },
     "execution_count": 22,
     "metadata": {},
     "output_type": "execute_result"
    }
   ],
   "source": [
    "pclass_gender_vs_survived = titanic.groupby(['pclass', 'sex', 'survived']).agg({'survived': 'count'})\n",
    "pclass_gender_vs_survived.columns = ['total']\n",
    "pclass_gender_vs_survived = pclass_gender_vs_survived.reset_index()\n",
    "pclass_gender_vs_survived"
   ]
  },
  {
   "cell_type": "markdown",
   "id": "4031443c-bf1b-45e8-bfbd-eff867aa327f",
   "metadata": {},
   "source": [
    "### % Survival of combination of pclass and gender - (pclass & gender) vs (survival)"
   ]
  },
  {
   "cell_type": "markdown",
   "id": "8a0e8555-b6be-4153-b04a-5f652399ec0f",
   "metadata": {},
   "source": [
    "### % Survival of each gender within each pclass among the total survived people - (female survial vs male survival in each class)"
   ]
  },
  {
   "cell_type": "code",
   "execution_count": 14,
   "id": "db73616c-e8c0-46aa-bad5-113c257eb853",
   "metadata": {},
   "outputs": [
    {
     "data": {
      "text/html": [
       "<div>\n",
       "<style scoped>\n",
       "    .dataframe tbody tr th:only-of-type {\n",
       "        vertical-align: middle;\n",
       "    }\n",
       "\n",
       "    .dataframe tbody tr th {\n",
       "        vertical-align: top;\n",
       "    }\n",
       "\n",
       "    .dataframe thead th {\n",
       "        text-align: right;\n",
       "    }\n",
       "</style>\n",
       "<table border=\"1\" class=\"dataframe\">\n",
       "  <thead>\n",
       "    <tr style=\"text-align: right;\">\n",
       "      <th></th>\n",
       "      <th>pclass</th>\n",
       "      <th>sex</th>\n",
       "      <th>survived</th>\n",
       "      <th>total</th>\n",
       "      <th>group_total</th>\n",
       "      <th>survival%</th>\n",
       "    </tr>\n",
       "  </thead>\n",
       "  <tbody>\n",
       "    <tr>\n",
       "      <th>0</th>\n",
       "      <td>1</td>\n",
       "      <td>female</td>\n",
       "      <td>0</td>\n",
       "      <td>3</td>\n",
       "      <td>94</td>\n",
       "      <td>3.19</td>\n",
       "    </tr>\n",
       "    <tr>\n",
       "      <th>1</th>\n",
       "      <td>1</td>\n",
       "      <td>female</td>\n",
       "      <td>1</td>\n",
       "      <td>91</td>\n",
       "      <td>94</td>\n",
       "      <td>96.81</td>\n",
       "    </tr>\n",
       "    <tr>\n",
       "      <th>2</th>\n",
       "      <td>1</td>\n",
       "      <td>male</td>\n",
       "      <td>0</td>\n",
       "      <td>77</td>\n",
       "      <td>122</td>\n",
       "      <td>63.11</td>\n",
       "    </tr>\n",
       "    <tr>\n",
       "      <th>3</th>\n",
       "      <td>1</td>\n",
       "      <td>male</td>\n",
       "      <td>1</td>\n",
       "      <td>45</td>\n",
       "      <td>122</td>\n",
       "      <td>36.89</td>\n",
       "    </tr>\n",
       "    <tr>\n",
       "      <th>4</th>\n",
       "      <td>2</td>\n",
       "      <td>female</td>\n",
       "      <td>0</td>\n",
       "      <td>6</td>\n",
       "      <td>76</td>\n",
       "      <td>7.89</td>\n",
       "    </tr>\n",
       "    <tr>\n",
       "      <th>5</th>\n",
       "      <td>2</td>\n",
       "      <td>female</td>\n",
       "      <td>1</td>\n",
       "      <td>70</td>\n",
       "      <td>76</td>\n",
       "      <td>92.11</td>\n",
       "    </tr>\n",
       "    <tr>\n",
       "      <th>6</th>\n",
       "      <td>2</td>\n",
       "      <td>male</td>\n",
       "      <td>0</td>\n",
       "      <td>91</td>\n",
       "      <td>108</td>\n",
       "      <td>84.26</td>\n",
       "    </tr>\n",
       "    <tr>\n",
       "      <th>7</th>\n",
       "      <td>2</td>\n",
       "      <td>male</td>\n",
       "      <td>1</td>\n",
       "      <td>17</td>\n",
       "      <td>108</td>\n",
       "      <td>15.74</td>\n",
       "    </tr>\n",
       "    <tr>\n",
       "      <th>8</th>\n",
       "      <td>3</td>\n",
       "      <td>female</td>\n",
       "      <td>0</td>\n",
       "      <td>72</td>\n",
       "      <td>144</td>\n",
       "      <td>50.00</td>\n",
       "    </tr>\n",
       "    <tr>\n",
       "      <th>9</th>\n",
       "      <td>3</td>\n",
       "      <td>female</td>\n",
       "      <td>1</td>\n",
       "      <td>72</td>\n",
       "      <td>144</td>\n",
       "      <td>50.00</td>\n",
       "    </tr>\n",
       "    <tr>\n",
       "      <th>10</th>\n",
       "      <td>3</td>\n",
       "      <td>male</td>\n",
       "      <td>0</td>\n",
       "      <td>300</td>\n",
       "      <td>347</td>\n",
       "      <td>86.46</td>\n",
       "    </tr>\n",
       "    <tr>\n",
       "      <th>11</th>\n",
       "      <td>3</td>\n",
       "      <td>male</td>\n",
       "      <td>1</td>\n",
       "      <td>47</td>\n",
       "      <td>347</td>\n",
       "      <td>13.54</td>\n",
       "    </tr>\n",
       "  </tbody>\n",
       "</table>\n",
       "</div>"
      ],
      "text/plain": [
       "    pclass     sex  survived  total  group_total  survival%\n",
       "0        1  female         0      3           94       3.19\n",
       "1        1  female         1     91           94      96.81\n",
       "2        1    male         0     77          122      63.11\n",
       "3        1    male         1     45          122      36.89\n",
       "4        2  female         0      6           76       7.89\n",
       "5        2  female         1     70           76      92.11\n",
       "6        2    male         0     91          108      84.26\n",
       "7        2    male         1     17          108      15.74\n",
       "8        3  female         0     72          144      50.00\n",
       "9        3  female         1     72          144      50.00\n",
       "10       3    male         0    300          347      86.46\n",
       "11       3    male         1     47          347      13.54"
      ]
     },
     "execution_count": 14,
     "metadata": {},
     "output_type": "execute_result"
    }
   ],
   "source": [
    "pclass_gender_vs_survived['group_total'] = pclass_gender_vs_survived.groupby(['pclass', 'sex'])['total'].transform('sum')\n",
    "pclass_gender_vs_survived['survival%'] = round(pclass_gender_vs_survived['total']/pclass_gender_vs_survived['group_total']*100,2)\n",
    "pclass_gender_vs_survived"
   ]
  },
  {
   "cell_type": "code",
   "execution_count": 63,
   "id": "9486adb0-4bbe-4908-b4a2-a3f169e48e37",
   "metadata": {},
   "outputs": [
    {
     "data": {
      "text/html": [
       "<div>\n",
       "<style scoped>\n",
       "    .dataframe tbody tr th:only-of-type {\n",
       "        vertical-align: middle;\n",
       "    }\n",
       "\n",
       "    .dataframe tbody tr th {\n",
       "        vertical-align: top;\n",
       "    }\n",
       "\n",
       "    .dataframe thead th {\n",
       "        text-align: right;\n",
       "    }\n",
       "</style>\n",
       "<table border=\"1\" class=\"dataframe\">\n",
       "  <thead>\n",
       "    <tr style=\"text-align: right;\">\n",
       "      <th></th>\n",
       "      <th>pclass</th>\n",
       "      <th>sex</th>\n",
       "      <th>survived</th>\n",
       "      <th>pclass_total_surviors</th>\n",
       "      <th>survival%_female_vs_male</th>\n",
       "    </tr>\n",
       "  </thead>\n",
       "  <tbody>\n",
       "    <tr>\n",
       "      <th>0</th>\n",
       "      <td>1</td>\n",
       "      <td>female</td>\n",
       "      <td>91</td>\n",
       "      <td>136</td>\n",
       "      <td>66.91</td>\n",
       "    </tr>\n",
       "    <tr>\n",
       "      <th>1</th>\n",
       "      <td>1</td>\n",
       "      <td>male</td>\n",
       "      <td>45</td>\n",
       "      <td>136</td>\n",
       "      <td>33.09</td>\n",
       "    </tr>\n",
       "    <tr>\n",
       "      <th>2</th>\n",
       "      <td>2</td>\n",
       "      <td>female</td>\n",
       "      <td>70</td>\n",
       "      <td>87</td>\n",
       "      <td>80.46</td>\n",
       "    </tr>\n",
       "    <tr>\n",
       "      <th>3</th>\n",
       "      <td>2</td>\n",
       "      <td>male</td>\n",
       "      <td>17</td>\n",
       "      <td>87</td>\n",
       "      <td>19.54</td>\n",
       "    </tr>\n",
       "    <tr>\n",
       "      <th>4</th>\n",
       "      <td>3</td>\n",
       "      <td>female</td>\n",
       "      <td>72</td>\n",
       "      <td>119</td>\n",
       "      <td>60.50</td>\n",
       "    </tr>\n",
       "    <tr>\n",
       "      <th>5</th>\n",
       "      <td>3</td>\n",
       "      <td>male</td>\n",
       "      <td>47</td>\n",
       "      <td>119</td>\n",
       "      <td>39.50</td>\n",
       "    </tr>\n",
       "  </tbody>\n",
       "</table>\n",
       "</div>"
      ],
      "text/plain": [
       "   pclass     sex  survived  pclass_total_surviors  survival%_female_vs_male\n",
       "0       1  female        91                    136                     66.91\n",
       "1       1    male        45                    136                     33.09\n",
       "2       2  female        70                     87                     80.46\n",
       "3       2    male        17                     87                     19.54\n",
       "4       3  female        72                    119                     60.50\n",
       "5       3    male        47                    119                     39.50"
      ]
     },
     "execution_count": 63,
     "metadata": {},
     "output_type": "execute_result"
    }
   ],
   "source": [
    "survivors = titanic.groupby(['pclass','sex']).agg({'survived':'sum'}).reset_index()\n",
    "survivors['pclass_total_surviors'] = survivors.groupby(['pclass'])['survived'].transform('sum')\n",
    "survivors['survival%_female_vs_male'] = round(survivors['survived']/survivors['pclass_total_surviors']*100,2)\n",
    "survivors"
   ]
  },
  {
   "cell_type": "code",
   "execution_count": null,
   "id": "1c0cb981-832d-4563-b9f1-55f41297c081",
   "metadata": {},
   "outputs": [],
   "source": []
  },
  {
   "cell_type": "markdown",
   "id": "e0b51d52-529b-42c6-b67e-3a1c52fa7b69",
   "metadata": {},
   "source": [
    "## Inferences"
   ]
  },
  {
   "cell_type": "markdown",
   "id": "aa08474f-bd7a-478a-bd23-e395cbaf81a5",
   "metadata": {},
   "source": [
    "### 2. Which gender survived more ?\n",
    "\n",
    "Females survived more when compared to male.\n",
    "- Out of 314 females, 233 survived - 74.20% survival rate\n",
    "- Out of 577 males, only 109 were survived - 18.89% survival rate\n"
   ]
  },
  {
   "cell_type": "markdown",
   "id": "ce8fde05-2449-4e8e-bc44-78e348b424b5",
   "metadata": {},
   "source": [
    "### 3. Does it depend on pclass?\n",
    "\n",
    "Yes, Survival depends on the passenger class(pclass)\n",
    "- first class survival rate - 62.96%\n",
    "- second class survival rate - 23.64%\n",
    "- third class survival rate - 8.08% \n",
    "So, people who are staying the first class have more chance of survival when compare to the other two classes."
   ]
  },
  {
   "cell_type": "markdown",
   "id": "0f525ad2-19a8-4356-9b79-5227982cbbbc",
   "metadata": {},
   "source": [
    "### 4. % of Survival by Gender and Pclass\n",
    "\n",
    "First Class\n",
    "- Females: 94 passengers, 91 survived - 96.8%\n",
    "- Males: 122 passengers, 45 survived - 36.89%\n",
    "Second Class\n",
    "- Females: 76 passengers, 70 survived - 92.11%\n",
    "- Males: 108 passengers, 17 survived - 15.74%\n",
    "Third Class\n",
    "- Females: 144 passengers, 72 survived - 50.0%\n",
    "- Males: 347 passengers, 47 survived - 13.54%"
   ]
  },
  {
   "cell_type": "markdown",
   "id": "acaf9f60-3a36-48f0-9bb0-daae101dbbbf",
   "metadata": {},
   "source": [
    "### -Survivors by Gender within Each Class:\n",
    "\n",
    "First Class Survivors: 136 total\n",
    "Females: 91\n",
    "Males: 45\n",
    "Second Class Survivors: 87 total\n",
    "Females: 70\n",
    "Males: 17\n",
    "Third Class Survivors: 119 total\n",
    "Females: 72\n",
    "Males: 47\n",
    "\n",
    "This shows that gender and class both affect survival, \n",
    "but gender has a stronger effect, especially for females who were given priority during rescue."
   ]
  },
  {
   "cell_type": "markdown",
   "id": "a0ba0e89-99cc-4e8a-848a-e6499dada92f",
   "metadata": {},
   "source": [
    "### Additional inferences : \n",
    "\n",
    "In all three classes, females had a much higher survival rate than males.\n",
    "Even in the same class, males had lower survival.\n",
    "Most females in 1st and 2nd class survived. In 3rd class, about half survived.\n",
    "Males survival was low in all classes, even in 1st class."
   ]
  },
  {
   "cell_type": "code",
   "execution_count": null,
   "id": "598b89b4-7a3a-4c93-ab90-0be55cc1bb56",
   "metadata": {},
   "outputs": [],
   "source": []
  },
  {
   "cell_type": "code",
   "execution_count": null,
   "id": "85dcb9e8-9583-4b09-bfcf-f6e611c8ebca",
   "metadata": {},
   "outputs": [],
   "source": []
  }
 ],
 "metadata": {
  "kernelspec": {
   "display_name": "Python 3 (ipykernel)",
   "language": "python",
   "name": "python3"
  },
  "language_info": {
   "codemirror_mode": {
    "name": "ipython",
    "version": 3
   },
   "file_extension": ".py",
   "mimetype": "text/x-python",
   "name": "python",
   "nbconvert_exporter": "python",
   "pygments_lexer": "ipython3",
   "version": "3.12.8"
  }
 },
 "nbformat": 4,
 "nbformat_minor": 5
}
